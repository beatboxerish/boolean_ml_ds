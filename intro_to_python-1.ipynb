{
 "cells": [
  {
   "cell_type": "markdown",
   "metadata": {},
   "source": [
    "# Welcome to Python 101 !"
   ]
  },
  {
   "cell_type": "markdown",
   "metadata": {},
   "source": [
    "<b> We shall learn some basic python and jupyter notebook skills which will form the basis of all that you do in python. "
   ]
  },
  {
   "cell_type": "markdown",
   "metadata": {},
   "source": [
    "## 1. Jupyter Notebooks Intro "
   ]
  },
  {
   "cell_type": "markdown",
   "metadata": {},
   "source": [
    "Simply and naively put, Jupyter notebooks provide an easy way to write code. They provide an interface using which it becomes really easy to go through code and write it. This is the preferred way of writing code when we talk about data science.  "
   ]
  },
  {
   "cell_type": "markdown",
   "metadata": {},
   "source": [
    "So a jupyter notebook is called a notebook because it looks and works like a notebook. You can format different areas to look differently making it easy to convey whatever you want to the reader. \n",
    "\n",
    "These notebooks are basically made up of units called cells in which you can write code or other stuff and then run it/execute it to get some results. \n",
    "\n",
    "<b>*DO: Create a new cell below. Write print(\"hey\"). Run it. Delete it.*</b>\n",
    "\n",
    "There are primarily two types of cells that you will come across. Cells are either going to be: Code cells or Markdown cells.\n",
    "\n",
    "Code cells are the ones in which you write some code and run it. These are the cells in which coding will take place. \n",
    "\n",
    "Markdown are cells like this one. In which you can write anything. You cant use them run an operation, calculate something, loop etc. These are just there to make the entire notebook more readable and to convey ideas to the reader. You can format Markdown cells by making words bold or italic and stuff like that.\n",
    "\n",
    "<b>*DO: Create a new cell below. Convert it into Markdown. Write \"ABCD\" in heading 1 style. Write \"EFGH\" in bold.*</b>"
   ]
  },
  {
   "cell_type": "markdown",
   "metadata": {},
   "source": [
    "Some Jupyter shortucts to be used above(when on the cell not in the cell):\n",
    "1. b : Create a new cell below\n",
    "2. a : Create a new cell above\n",
    "3. ctrl + enter : Run current cell\n",
    "4. enter : To enter current cell\n",
    "5. esc : To exit current cell\n",
    "6. dd (press d twice) : Delete current cell\n",
    "7. m : Convert to Markdown\n",
    "8. y : Convert to Code cell\n",
    "9. Use html type tags to edit Markdown cells\n",
    "10. ctrl + s : save notebook"
   ]
  },
  {
   "cell_type": "markdown",
   "metadata": {},
   "source": []
  },
  {
   "cell_type": "markdown",
   "metadata": {},
   "source": [
    "## 2. Python Intro"
   ]
  },
  {
   "cell_type": "markdown",
   "metadata": {},
   "source": [
    "What is python ? \n",
    "\n",
    "-> A simple yet relatively slow programming language. "
   ]
  },
  {
   "cell_type": "code",
   "execution_count": null,
   "metadata": {},
   "outputs": [],
   "source": [
    "# this is how you add comments\n",
    "# comments are again used to tell what is going on in your code\n",
    "# eg:\n",
    "\n",
    "# This prints hellow world\n",
    "print(\"Hello World\")"
   ]
  },
  {
   "cell_type": "code",
   "execution_count": null,
   "metadata": {},
   "outputs": [],
   "source": [
    "# Assingmemt/ variables\n",
    "\n",
    "# 1. Simple assignment \n",
    "x = 5\n",
    "x"
   ]
  },
  {
   "cell_type": "code",
   "execution_count": null,
   "metadata": {},
   "outputs": [],
   "source": [
    "# 2. Assigning value of one variable with the help of another\n",
    "x = 4\n",
    "y = x\n",
    "x = 6\n",
    "y"
   ]
  },
  {
   "cell_type": "code",
   "execution_count": null,
   "metadata": {},
   "outputs": [],
   "source": [
    "# Two ways to show output in Jupyter notebooks\n",
    "\n",
    "# 1. print\n",
    "print(\"Look at x+y below\")\n",
    "print(\"----\")\n",
    "print(x+y)\n",
    "print(\"----\")\n",
    "print(\"x+y =\", x+y)\n",
    "print(\"----\")"
   ]
  },
  {
   "cell_type": "code",
   "execution_count": null,
   "metadata": {},
   "outputs": [],
   "source": [
    "# 2. write down variable at the end of the cell\n",
    "x"
   ]
  },
  {
   "cell_type": "code",
   "execution_count": null,
   "metadata": {},
   "outputs": [],
   "source": [
    "y\n",
    "x"
   ]
  },
  {
   "cell_type": "markdown",
   "metadata": {},
   "source": [
    "_**DO: Create a new code cell below. Assign x as 25 and y as 30. Create another new cell. Print out x+y, x-y, x/y, x\\*\\*y**_"
   ]
  },
  {
   "cell_type": "code",
   "execution_count": null,
   "metadata": {},
   "outputs": [],
   "source": [
    "#data types\n",
    "\n",
    "# 1. string\n",
    "a = \"hiii\"\n",
    "print(type(a))\n",
    "\n",
    "# 2. int\n",
    "b = 567\n",
    "print(type(b))\n",
    "\n",
    "# 3. float\n",
    "c = 2.56\n",
    "print(type(c))\n",
    "\n",
    "# 4. Boolean\n",
    "print(type(True))\n",
    "print(type(False))"
   ]
  },
  {
   "cell_type": "markdown",
   "metadata": {},
   "source": [
    "_**DO: Create a new code cell below. Print type of x/y and x//y**_"
   ]
  },
  {
   "cell_type": "markdown",
   "metadata": {},
   "source": [
    "<b> Strings </b>"
   ]
  },
  {
   "cell_type": "code",
   "execution_count": null,
   "metadata": {},
   "outputs": [],
   "source": [
    "# strings\n",
    "print(\"hello world\")\n",
    "# This is the same as print('hello world'). Single quotations dont really differ from double quotations in strings"
   ]
  },
  {
   "cell_type": "markdown",
   "metadata": {},
   "source": [
    "In python indexing happens from 0. Lets take strings as an example to understand this. Let's say we have a string as a = \"Hello\". Now we can imagine that \"Hello\" is stored as a list/array of letters with each letter occupying one space. So 'H' will be stored at the 0th position. 'E' will be stored at the 1st position and so on. This differs from R language indexing. "
   ]
  },
  {
   "cell_type": "markdown",
   "metadata": {},
   "source": [
    "_**DO: If we have a n letter word stored as a string, what will be the index/position of the last letter ?**_"
   ]
  },
  {
   "cell_type": "code",
   "execution_count": null,
   "metadata": {},
   "outputs": [],
   "source": [
    "# indexing \n",
    "x = \"Hello\"\n",
    "x[0], x[2], x[4]"
   ]
  },
  {
   "cell_type": "code",
   "execution_count": null,
   "metadata": {},
   "outputs": [],
   "source": [
    "# Concatenation (combining strings)\n",
    "first = 'stephen'\n",
    "last = 'hawking'\n",
    "full = first + ' ' + last\n",
    "print(full)"
   ]
  },
  {
   "cell_type": "code",
   "execution_count": null,
   "metadata": {},
   "outputs": [],
   "source": [
    "#strings are immutable. You can't change individual letters like below in strings\n",
    "x = \"NEW YORK\"\n",
    "x[1] = \"R\""
   ]
  },
  {
   "cell_type": "code",
   "execution_count": null,
   "metadata": {},
   "outputs": [],
   "source": [
    "x"
   ]
  },
  {
   "cell_type": "markdown",
   "metadata": {},
   "source": [
    "To find out length of strings we use the following:"
   ]
  },
  {
   "cell_type": "code",
   "execution_count": null,
   "metadata": {},
   "outputs": [],
   "source": [
    "len(x)"
   ]
  },
  {
   "cell_type": "markdown",
   "metadata": {},
   "source": [
    "**Conditional Statements**"
   ]
  },
  {
   "cell_type": "code",
   "execution_count": null,
   "metadata": {},
   "outputs": [],
   "source": [
    "# conditional statements\n",
    "a = 3\n",
    "print(a == 3)"
   ]
  },
  {
   "cell_type": "code",
   "execution_count": null,
   "metadata": {},
   "outputs": [],
   "source": [
    "b = 10\n",
    "print(a>b)"
   ]
  },
  {
   "cell_type": "markdown",
   "metadata": {},
   "source": [
    "Using if condition"
   ]
  },
  {
   "cell_type": "code",
   "execution_count": null,
   "metadata": {},
   "outputs": [],
   "source": [
    "#1\n",
    "if 10==5:\n",
    "    print(\"True\")\n",
    "print(\"---\")\n",
    "#2\n",
    "if 10==5:\n",
    "    print(\"True\")\n",
    "else: \n",
    "    print(\"False\")\n",
    "print(\"---\")\n",
    "#3\n",
    "if 10==5:\n",
    "    print(\"True\")\n",
    "elif 5==5:\n",
    "    print(\"True\")\n",
    "else:\n",
    "    print(\"True\")\n",
    "print(\"---\")"
   ]
  },
  {
   "cell_type": "markdown",
   "metadata": {},
   "source": [
    "_**DO: Create new cell below. Let a be 5.5 and b be 6.5. If quotient of a divided by b is greater than or equal to a print out \"1st true\" else if a divided by b is greater than a then print out \"2nd true\" else print out \"None were true\"**_"
   ]
  },
  {
   "cell_type": "code",
   "execution_count": null,
   "metadata": {},
   "outputs": [],
   "source": [
    "# example\n",
    "# for intuition take exmaple of strings be stores as lists\n",
    "x = \"NEW YORK\"\n",
    "if \"N\" in x:\n",
    "    print(\"Yes\")\n",
    "else:\n",
    "    print(\"No\")"
   ]
  },
  {
   "cell_type": "markdown",
   "metadata": {},
   "source": [
    "<b>Practice Question - To find whether a year is a leap year or not. \n",
    "For an year to be leap year:\n",
    "1. The year is divisible by 4;\n",
    "2. If the year can be divided by 100, it is NOT a leap year, unless;\n",
    "3. The year is also divisible by 400. Then it is a leap year.</b>"
   ]
  },
  {
   "cell_type": "code",
   "execution_count": null,
   "metadata": {},
   "outputs": [],
   "source": [
    "x = 2020\n",
    "if x % 100 == 0:\n",
    "    if x % 400 == 0:\n",
    "        print(\"x is a leap year\")\n",
    "    else:\n",
    "        print(\"x is not a leap year\")\n",
    "elif x % 4 == 0:\n",
    "    print(\"x is a leap year\")"
   ]
  },
  {
   "cell_type": "markdown",
   "metadata": {},
   "source": [
    "**Loops**"
   ]
  },
  {
   "cell_type": "markdown",
   "metadata": {},
   "source": [
    "_Expain range function_"
   ]
  },
  {
   "cell_type": "code",
   "execution_count": null,
   "metadata": {},
   "outputs": [],
   "source": [
    "# loops\n",
    "# for loop\n",
    "for i in range(0,6):\n",
    "    print(i)"
   ]
  },
  {
   "cell_type": "code",
   "execution_count": null,
   "metadata": {},
   "outputs": [],
   "source": [
    "# loops are iterative. Practice with strings\n",
    "a = \"This is python\"\n",
    "for i in range(0,len(a)):\n",
    "    print(a[i])"
   ]
  },
  {
   "cell_type": "code",
   "execution_count": null,
   "metadata": {},
   "outputs": [],
   "source": [
    "# while loop\n",
    "# What will this loop print out ??\n",
    "count = 0\n",
    "while count < 10:\n",
    "    print(count)\n",
    "#     count += 1"
   ]
  },
  {
   "cell_type": "markdown",
   "metadata": {},
   "source": [
    "_**DO: Create new cell below. Let a be your name. Print out 1 letter at a time using a for loop.**_"
   ]
  },
  {
   "cell_type": "markdown",
   "metadata": {},
   "source": [
    "_**DO: Print the average of the first 10 numbers using a for loop**_"
   ]
  },
  {
   "cell_type": "markdown",
   "metadata": {},
   "source": [
    "_**DO: Print multiplication table of 56 till times 10 using while loop**_"
   ]
  },
  {
   "cell_type": "markdown",
   "metadata": {},
   "source": [
    "_**DO: Calculate factorial of 29 using any loop**_"
   ]
  }
 ],
 "metadata": {
  "kernelspec": {
   "display_name": "Python 3",
   "language": "python",
   "name": "python3"
  },
  "language_info": {
   "codemirror_mode": {
    "name": "ipython",
    "version": 3
   },
   "file_extension": ".py",
   "mimetype": "text/x-python",
   "name": "python",
   "nbconvert_exporter": "python",
   "pygments_lexer": "ipython3",
   "version": "3.7.3"
  }
 },
 "nbformat": 4,
 "nbformat_minor": 2
}
