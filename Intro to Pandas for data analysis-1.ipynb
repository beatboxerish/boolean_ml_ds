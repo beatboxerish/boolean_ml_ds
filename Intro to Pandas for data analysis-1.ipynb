{
 "cells": [
  {
   "cell_type": "markdown",
   "metadata": {},
   "source": [
    "What are libraries ?"
   ]
  },
  {
   "cell_type": "markdown",
   "metadata": {},
   "source": [
    "These refer to just a bunch of code that other people or organizations might have written and uploaded so that everyone can use them. By using libraries we can get a lot of pre-written functinos that we can call and use in our code. \n",
    "\n",
    "They are a collection of functions that alow us to use these functions without writing underlying code."
   ]
  },
  {
   "cell_type": "markdown",
   "metadata": {},
   "source": [
    "Eg: Suppose I don't know how to solve a quadratic equation. But, I do know that there is a library numpy, just the name of the library, that has a function, say quad_solve(a, b, c), already made for this purpose. Then I would import this library and use that function on my coefficients to solve the equation. "
   ]
  },
  {
   "cell_type": "markdown",
   "metadata": {},
   "source": [
    "Syntax for importing library code:\n",
    "\n",
    "import library_name\n",
    "\n",
    "    or \n",
    " \n",
    "import library_name as some_other_easy_name"
   ]
  },
  {
   "cell_type": "code",
   "execution_count": 1,
   "metadata": {},
   "outputs": [],
   "source": [
    "#eg\n",
    "import math"
   ]
  },
  {
   "cell_type": "code",
   "execution_count": 4,
   "metadata": {},
   "outputs": [
    {
     "data": {
      "text/plain": [
       "7.38905609893065"
      ]
     },
     "execution_count": 4,
     "metadata": {},
     "output_type": "execute_result"
    }
   ],
   "source": [
    "math.exp(2)"
   ]
  },
  {
   "cell_type": "markdown",
   "metadata": {},
   "source": [
    "or"
   ]
  },
  {
   "cell_type": "code",
   "execution_count": 5,
   "metadata": {},
   "outputs": [],
   "source": [
    "import math as meth"
   ]
  },
  {
   "cell_type": "code",
   "execution_count": 9,
   "metadata": {},
   "outputs": [
    {
     "data": {
      "text/plain": [
       "1.0986122886681098"
      ]
     },
     "execution_count": 9,
     "metadata": {},
     "output_type": "execute_result"
    }
   ],
   "source": [
    "math.log(3)"
   ]
  },
  {
   "cell_type": "markdown",
   "metadata": {},
   "source": [
    "or"
   ]
  },
  {
   "cell_type": "code",
   "execution_count": 10,
   "metadata": {},
   "outputs": [],
   "source": [
    "import math as m"
   ]
  },
  {
   "cell_type": "code",
   "execution_count": 11,
   "metadata": {},
   "outputs": [
    {
     "data": {
      "text/plain": [
       "-0.8390715290764524"
      ]
     },
     "execution_count": 11,
     "metadata": {},
     "output_type": "execute_result"
    }
   ],
   "source": [
    "m.cos(10)"
   ]
  },
  {
   "cell_type": "markdown",
   "metadata": {},
   "source": [
    "and so on..."
   ]
  },
  {
   "cell_type": "markdown",
   "metadata": {},
   "source": [
    "Now we can call functions from these libraries using the name that we gave to the library"
   ]
  },
  {
   "cell_type": "code",
   "execution_count": null,
   "metadata": {},
   "outputs": [],
   "source": [
    "m.log(1)"
   ]
  },
  {
   "cell_type": "code",
   "execution_count": null,
   "metadata": {},
   "outputs": [],
   "source": [
    "math.exp(2)"
   ]
  },
  {
   "cell_type": "code",
   "execution_count": null,
   "metadata": {},
   "outputs": [],
   "source": [
    "meth.sin(20)"
   ]
  },
  {
   "cell_type": "markdown",
   "metadata": {},
   "source": [
    "_**DO: import a library called datetime with name alloted to it: dt. Use the function : datetime.now of this library**_"
   ]
  },
  {
   "cell_type": "markdown",
   "metadata": {},
   "source": [
    "-----"
   ]
  },
  {
   "cell_type": "markdown",
   "metadata": {},
   "source": [
    "## Pandas"
   ]
  },
  {
   "cell_type": "markdown",
   "metadata": {},
   "source": [
    "_Make sure that everyone knows matrices. Describe 1-D, 2-D, N-D matrices and do some questions to make sure they know how read its shape_"
   ]
  },
  {
   "cell_type": "code",
   "execution_count": 12,
   "metadata": {},
   "outputs": [],
   "source": [
    "import pandas as pd"
   ]
  },
  {
   "cell_type": "markdown",
   "metadata": {},
   "source": [
    "Just like we studied lists, which was a data structure, the main data structure that you will have to understand while working with pandas is DataFrames."
   ]
  },
  {
   "cell_type": "markdown",
   "metadata": {},
   "source": [
    "DataFrames are made of another highly similar data structre called Series. SO we will go through series first and then go to dataframes"
   ]
  },
  {
   "cell_type": "markdown",
   "metadata": {},
   "source": [
    "### Series"
   ]
  },
  {
   "cell_type": "markdown",
   "metadata": {},
   "source": [
    "Pandas Series is a one-dimensional labeled array capable of holding data of any type (integer, string, float, python objects, etc.). The axis labels are collectively called index. Pandas Series is nothing but a column in an excel sheet."
   ]
  },
  {
   "cell_type": "code",
   "execution_count": 13,
   "metadata": {},
   "outputs": [
    {
     "data": {
      "text/plain": [
       "0    1\n",
       "1    2\n",
       "2    3\n",
       "3    4\n",
       "4    5\n",
       "dtype: int64"
      ]
     },
     "execution_count": 13,
     "metadata": {},
     "output_type": "execute_result"
    }
   ],
   "source": [
    "series_1 = pd.Series([1,2,3,4,5])\n",
    "series_1"
   ]
  },
  {
   "cell_type": "markdown",
   "metadata": {},
   "source": [
    "_Describe components of above series and how to understand it_"
   ]
  },
  {
   "cell_type": "markdown",
   "metadata": {},
   "source": [
    "_**DO: Print the 2nd and 3rd elements of series_1.Then change the 5th element to 100**_"
   ]
  },
  {
   "cell_type": "code",
   "execution_count": 19,
   "metadata": {},
   "outputs": [
    {
     "data": {
      "text/plain": [
       "(5,)"
      ]
     },
     "execution_count": 19,
     "metadata": {},
     "output_type": "execute_result"
    }
   ],
   "source": [
    "series_1.shape"
   ]
  },
  {
   "cell_type": "markdown",
   "metadata": {},
   "source": [
    "_Consequences of having above shape: Vector, no transpose_"
   ]
  },
  {
   "cell_type": "code",
   "execution_count": 14,
   "metadata": {},
   "outputs": [],
   "source": [
    "series_1[0] = \"hey\""
   ]
  },
  {
   "cell_type": "code",
   "execution_count": 15,
   "metadata": {},
   "outputs": [
    {
     "data": {
      "text/plain": [
       "0    hey\n",
       "1      2\n",
       "2      3\n",
       "3      4\n",
       "4      5\n",
       "dtype: object"
      ]
     },
     "execution_count": 15,
     "metadata": {},
     "output_type": "execute_result"
    }
   ],
   "source": [
    "series_1"
   ]
  },
  {
   "cell_type": "markdown",
   "metadata": {},
   "source": [
    "### Moving onto real data"
   ]
  },
  {
   "cell_type": "code",
   "execution_count": 22,
   "metadata": {},
   "outputs": [],
   "source": [
    "df = pd.read_csv(\"data/train.csv\")"
   ]
  },
  {
   "cell_type": "code",
   "execution_count": 23,
   "metadata": {
    "scrolled": true
   },
   "outputs": [
    {
     "data": {
      "text/html": [
       "<div>\n",
       "<style scoped>\n",
       "    .dataframe tbody tr th:only-of-type {\n",
       "        vertical-align: middle;\n",
       "    }\n",
       "\n",
       "    .dataframe tbody tr th {\n",
       "        vertical-align: top;\n",
       "    }\n",
       "\n",
       "    .dataframe thead th {\n",
       "        text-align: right;\n",
       "    }\n",
       "</style>\n",
       "<table border=\"1\" class=\"dataframe\">\n",
       "  <thead>\n",
       "    <tr style=\"text-align: right;\">\n",
       "      <th></th>\n",
       "      <th>Id</th>\n",
       "      <th>LotArea</th>\n",
       "      <th>Neighborhood</th>\n",
       "      <th>OverallCond</th>\n",
       "      <th>YearBuilt</th>\n",
       "      <th>SalePrice</th>\n",
       "    </tr>\n",
       "  </thead>\n",
       "  <tbody>\n",
       "    <tr>\n",
       "      <th>0</th>\n",
       "      <td>1</td>\n",
       "      <td>8450</td>\n",
       "      <td>CollgCr</td>\n",
       "      <td>5</td>\n",
       "      <td>2003</td>\n",
       "      <td>208500</td>\n",
       "    </tr>\n",
       "    <tr>\n",
       "      <th>1</th>\n",
       "      <td>2</td>\n",
       "      <td>9600</td>\n",
       "      <td>Veenker</td>\n",
       "      <td>8</td>\n",
       "      <td>1976</td>\n",
       "      <td>181500</td>\n",
       "    </tr>\n",
       "    <tr>\n",
       "      <th>2</th>\n",
       "      <td>3</td>\n",
       "      <td>11250</td>\n",
       "      <td>CollgCr</td>\n",
       "      <td>5</td>\n",
       "      <td>2001</td>\n",
       "      <td>223500</td>\n",
       "    </tr>\n",
       "    <tr>\n",
       "      <th>3</th>\n",
       "      <td>4</td>\n",
       "      <td>9550</td>\n",
       "      <td>Crawfor</td>\n",
       "      <td>5</td>\n",
       "      <td>1915</td>\n",
       "      <td>140000</td>\n",
       "    </tr>\n",
       "    <tr>\n",
       "      <th>4</th>\n",
       "      <td>5</td>\n",
       "      <td>14260</td>\n",
       "      <td>NoRidge</td>\n",
       "      <td>5</td>\n",
       "      <td>2000</td>\n",
       "      <td>250000</td>\n",
       "    </tr>\n",
       "    <tr>\n",
       "      <th>5</th>\n",
       "      <td>6</td>\n",
       "      <td>14115</td>\n",
       "      <td>Mitchel</td>\n",
       "      <td>5</td>\n",
       "      <td>1993</td>\n",
       "      <td>143000</td>\n",
       "    </tr>\n",
       "    <tr>\n",
       "      <th>6</th>\n",
       "      <td>7</td>\n",
       "      <td>10084</td>\n",
       "      <td>Somerst</td>\n",
       "      <td>5</td>\n",
       "      <td>2004</td>\n",
       "      <td>307000</td>\n",
       "    </tr>\n",
       "    <tr>\n",
       "      <th>7</th>\n",
       "      <td>8</td>\n",
       "      <td>10382</td>\n",
       "      <td>NWAmes</td>\n",
       "      <td>6</td>\n",
       "      <td>1973</td>\n",
       "      <td>200000</td>\n",
       "    </tr>\n",
       "    <tr>\n",
       "      <th>8</th>\n",
       "      <td>9</td>\n",
       "      <td>6120</td>\n",
       "      <td>OldTown</td>\n",
       "      <td>5</td>\n",
       "      <td>1931</td>\n",
       "      <td>129900</td>\n",
       "    </tr>\n",
       "    <tr>\n",
       "      <th>9</th>\n",
       "      <td>10</td>\n",
       "      <td>7420</td>\n",
       "      <td>BrkSide</td>\n",
       "      <td>6</td>\n",
       "      <td>1939</td>\n",
       "      <td>118000</td>\n",
       "    </tr>\n",
       "    <tr>\n",
       "      <th>10</th>\n",
       "      <td>11</td>\n",
       "      <td>11200</td>\n",
       "      <td>Sawyer</td>\n",
       "      <td>5</td>\n",
       "      <td>1965</td>\n",
       "      <td>129500</td>\n",
       "    </tr>\n",
       "    <tr>\n",
       "      <th>11</th>\n",
       "      <td>12</td>\n",
       "      <td>11924</td>\n",
       "      <td>NridgHt</td>\n",
       "      <td>5</td>\n",
       "      <td>2005</td>\n",
       "      <td>345000</td>\n",
       "    </tr>\n",
       "    <tr>\n",
       "      <th>12</th>\n",
       "      <td>13</td>\n",
       "      <td>12968</td>\n",
       "      <td>Sawyer</td>\n",
       "      <td>6</td>\n",
       "      <td>1962</td>\n",
       "      <td>144000</td>\n",
       "    </tr>\n",
       "    <tr>\n",
       "      <th>13</th>\n",
       "      <td>14</td>\n",
       "      <td>10652</td>\n",
       "      <td>CollgCr</td>\n",
       "      <td>5</td>\n",
       "      <td>2006</td>\n",
       "      <td>279500</td>\n",
       "    </tr>\n",
       "    <tr>\n",
       "      <th>14</th>\n",
       "      <td>15</td>\n",
       "      <td>10920</td>\n",
       "      <td>NAmes</td>\n",
       "      <td>5</td>\n",
       "      <td>1960</td>\n",
       "      <td>157000</td>\n",
       "    </tr>\n",
       "    <tr>\n",
       "      <th>15</th>\n",
       "      <td>16</td>\n",
       "      <td>6120</td>\n",
       "      <td>BrkSide</td>\n",
       "      <td>8</td>\n",
       "      <td>1929</td>\n",
       "      <td>132000</td>\n",
       "    </tr>\n",
       "    <tr>\n",
       "      <th>16</th>\n",
       "      <td>17</td>\n",
       "      <td>11241</td>\n",
       "      <td>NAmes</td>\n",
       "      <td>7</td>\n",
       "      <td>1970</td>\n",
       "      <td>149000</td>\n",
       "    </tr>\n",
       "    <tr>\n",
       "      <th>17</th>\n",
       "      <td>18</td>\n",
       "      <td>10791</td>\n",
       "      <td>Sawyer</td>\n",
       "      <td>5</td>\n",
       "      <td>1967</td>\n",
       "      <td>90000</td>\n",
       "    </tr>\n",
       "    <tr>\n",
       "      <th>18</th>\n",
       "      <td>19</td>\n",
       "      <td>13695</td>\n",
       "      <td>SawyerW</td>\n",
       "      <td>5</td>\n",
       "      <td>2004</td>\n",
       "      <td>159000</td>\n",
       "    </tr>\n",
       "    <tr>\n",
       "      <th>19</th>\n",
       "      <td>20</td>\n",
       "      <td>7560</td>\n",
       "      <td>NAmes</td>\n",
       "      <td>6</td>\n",
       "      <td>1958</td>\n",
       "      <td>139000</td>\n",
       "    </tr>\n",
       "    <tr>\n",
       "      <th>20</th>\n",
       "      <td>21</td>\n",
       "      <td>14215</td>\n",
       "      <td>NridgHt</td>\n",
       "      <td>5</td>\n",
       "      <td>2005</td>\n",
       "      <td>325300</td>\n",
       "    </tr>\n",
       "    <tr>\n",
       "      <th>21</th>\n",
       "      <td>22</td>\n",
       "      <td>7449</td>\n",
       "      <td>IDOTRR</td>\n",
       "      <td>7</td>\n",
       "      <td>1930</td>\n",
       "      <td>139400</td>\n",
       "    </tr>\n",
       "    <tr>\n",
       "      <th>22</th>\n",
       "      <td>23</td>\n",
       "      <td>9742</td>\n",
       "      <td>CollgCr</td>\n",
       "      <td>5</td>\n",
       "      <td>2002</td>\n",
       "      <td>230000</td>\n",
       "    </tr>\n",
       "    <tr>\n",
       "      <th>23</th>\n",
       "      <td>24</td>\n",
       "      <td>4224</td>\n",
       "      <td>MeadowV</td>\n",
       "      <td>7</td>\n",
       "      <td>1976</td>\n",
       "      <td>129900</td>\n",
       "    </tr>\n",
       "    <tr>\n",
       "      <th>24</th>\n",
       "      <td>25</td>\n",
       "      <td>8246</td>\n",
       "      <td>Sawyer</td>\n",
       "      <td>8</td>\n",
       "      <td>1968</td>\n",
       "      <td>154000</td>\n",
       "    </tr>\n",
       "    <tr>\n",
       "      <th>25</th>\n",
       "      <td>26</td>\n",
       "      <td>14230</td>\n",
       "      <td>NridgHt</td>\n",
       "      <td>5</td>\n",
       "      <td>2007</td>\n",
       "      <td>256300</td>\n",
       "    </tr>\n",
       "    <tr>\n",
       "      <th>26</th>\n",
       "      <td>27</td>\n",
       "      <td>7200</td>\n",
       "      <td>NAmes</td>\n",
       "      <td>7</td>\n",
       "      <td>1951</td>\n",
       "      <td>134800</td>\n",
       "    </tr>\n",
       "    <tr>\n",
       "      <th>27</th>\n",
       "      <td>28</td>\n",
       "      <td>11478</td>\n",
       "      <td>NridgHt</td>\n",
       "      <td>5</td>\n",
       "      <td>2007</td>\n",
       "      <td>306000</td>\n",
       "    </tr>\n",
       "    <tr>\n",
       "      <th>28</th>\n",
       "      <td>29</td>\n",
       "      <td>16321</td>\n",
       "      <td>NAmes</td>\n",
       "      <td>6</td>\n",
       "      <td>1957</td>\n",
       "      <td>207500</td>\n",
       "    </tr>\n",
       "    <tr>\n",
       "      <th>29</th>\n",
       "      <td>30</td>\n",
       "      <td>6324</td>\n",
       "      <td>BrkSide</td>\n",
       "      <td>6</td>\n",
       "      <td>1927</td>\n",
       "      <td>68500</td>\n",
       "    </tr>\n",
       "    <tr>\n",
       "      <th>...</th>\n",
       "      <td>...</td>\n",
       "      <td>...</td>\n",
       "      <td>...</td>\n",
       "      <td>...</td>\n",
       "      <td>...</td>\n",
       "      <td>...</td>\n",
       "    </tr>\n",
       "    <tr>\n",
       "      <th>1430</th>\n",
       "      <td>1431</td>\n",
       "      <td>21930</td>\n",
       "      <td>Gilbert</td>\n",
       "      <td>5</td>\n",
       "      <td>2005</td>\n",
       "      <td>192140</td>\n",
       "    </tr>\n",
       "    <tr>\n",
       "      <th>1431</th>\n",
       "      <td>1432</td>\n",
       "      <td>4928</td>\n",
       "      <td>NPkVill</td>\n",
       "      <td>6</td>\n",
       "      <td>1976</td>\n",
       "      <td>143750</td>\n",
       "    </tr>\n",
       "    <tr>\n",
       "      <th>1432</th>\n",
       "      <td>1433</td>\n",
       "      <td>10800</td>\n",
       "      <td>OldTown</td>\n",
       "      <td>6</td>\n",
       "      <td>1927</td>\n",
       "      <td>64500</td>\n",
       "    </tr>\n",
       "    <tr>\n",
       "      <th>1433</th>\n",
       "      <td>1434</td>\n",
       "      <td>10261</td>\n",
       "      <td>Gilbert</td>\n",
       "      <td>5</td>\n",
       "      <td>2000</td>\n",
       "      <td>186500</td>\n",
       "    </tr>\n",
       "    <tr>\n",
       "      <th>1434</th>\n",
       "      <td>1435</td>\n",
       "      <td>17400</td>\n",
       "      <td>Mitchel</td>\n",
       "      <td>5</td>\n",
       "      <td>1977</td>\n",
       "      <td>160000</td>\n",
       "    </tr>\n",
       "    <tr>\n",
       "      <th>1435</th>\n",
       "      <td>1436</td>\n",
       "      <td>8400</td>\n",
       "      <td>NAmes</td>\n",
       "      <td>9</td>\n",
       "      <td>1962</td>\n",
       "      <td>174000</td>\n",
       "    </tr>\n",
       "    <tr>\n",
       "      <th>1436</th>\n",
       "      <td>1437</td>\n",
       "      <td>9000</td>\n",
       "      <td>NAmes</td>\n",
       "      <td>6</td>\n",
       "      <td>1971</td>\n",
       "      <td>120500</td>\n",
       "    </tr>\n",
       "    <tr>\n",
       "      <th>1437</th>\n",
       "      <td>1438</td>\n",
       "      <td>12444</td>\n",
       "      <td>NridgHt</td>\n",
       "      <td>5</td>\n",
       "      <td>2008</td>\n",
       "      <td>394617</td>\n",
       "    </tr>\n",
       "    <tr>\n",
       "      <th>1438</th>\n",
       "      <td>1439</td>\n",
       "      <td>7407</td>\n",
       "      <td>OldTown</td>\n",
       "      <td>7</td>\n",
       "      <td>1957</td>\n",
       "      <td>149700</td>\n",
       "    </tr>\n",
       "    <tr>\n",
       "      <th>1439</th>\n",
       "      <td>1440</td>\n",
       "      <td>11584</td>\n",
       "      <td>NWAmes</td>\n",
       "      <td>6</td>\n",
       "      <td>1979</td>\n",
       "      <td>197000</td>\n",
       "    </tr>\n",
       "    <tr>\n",
       "      <th>1440</th>\n",
       "      <td>1441</td>\n",
       "      <td>11526</td>\n",
       "      <td>Crawfor</td>\n",
       "      <td>7</td>\n",
       "      <td>1922</td>\n",
       "      <td>191000</td>\n",
       "    </tr>\n",
       "    <tr>\n",
       "      <th>1441</th>\n",
       "      <td>1442</td>\n",
       "      <td>4426</td>\n",
       "      <td>CollgCr</td>\n",
       "      <td>5</td>\n",
       "      <td>2004</td>\n",
       "      <td>149300</td>\n",
       "    </tr>\n",
       "    <tr>\n",
       "      <th>1442</th>\n",
       "      <td>1443</td>\n",
       "      <td>11003</td>\n",
       "      <td>Somerst</td>\n",
       "      <td>5</td>\n",
       "      <td>2008</td>\n",
       "      <td>310000</td>\n",
       "    </tr>\n",
       "    <tr>\n",
       "      <th>1443</th>\n",
       "      <td>1444</td>\n",
       "      <td>8854</td>\n",
       "      <td>BrkSide</td>\n",
       "      <td>6</td>\n",
       "      <td>1916</td>\n",
       "      <td>121000</td>\n",
       "    </tr>\n",
       "    <tr>\n",
       "      <th>1444</th>\n",
       "      <td>1445</td>\n",
       "      <td>8500</td>\n",
       "      <td>CollgCr</td>\n",
       "      <td>5</td>\n",
       "      <td>2004</td>\n",
       "      <td>179600</td>\n",
       "    </tr>\n",
       "    <tr>\n",
       "      <th>1445</th>\n",
       "      <td>1446</td>\n",
       "      <td>8400</td>\n",
       "      <td>Sawyer</td>\n",
       "      <td>5</td>\n",
       "      <td>1966</td>\n",
       "      <td>129000</td>\n",
       "    </tr>\n",
       "    <tr>\n",
       "      <th>1446</th>\n",
       "      <td>1447</td>\n",
       "      <td>26142</td>\n",
       "      <td>Mitchel</td>\n",
       "      <td>7</td>\n",
       "      <td>1962</td>\n",
       "      <td>157900</td>\n",
       "    </tr>\n",
       "    <tr>\n",
       "      <th>1447</th>\n",
       "      <td>1448</td>\n",
       "      <td>10000</td>\n",
       "      <td>CollgCr</td>\n",
       "      <td>5</td>\n",
       "      <td>1995</td>\n",
       "      <td>240000</td>\n",
       "    </tr>\n",
       "    <tr>\n",
       "      <th>1448</th>\n",
       "      <td>1449</td>\n",
       "      <td>11767</td>\n",
       "      <td>Edwards</td>\n",
       "      <td>7</td>\n",
       "      <td>1910</td>\n",
       "      <td>112000</td>\n",
       "    </tr>\n",
       "    <tr>\n",
       "      <th>1449</th>\n",
       "      <td>1450</td>\n",
       "      <td>1533</td>\n",
       "      <td>MeadowV</td>\n",
       "      <td>7</td>\n",
       "      <td>1970</td>\n",
       "      <td>92000</td>\n",
       "    </tr>\n",
       "    <tr>\n",
       "      <th>1450</th>\n",
       "      <td>1451</td>\n",
       "      <td>9000</td>\n",
       "      <td>NAmes</td>\n",
       "      <td>5</td>\n",
       "      <td>1974</td>\n",
       "      <td>136000</td>\n",
       "    </tr>\n",
       "    <tr>\n",
       "      <th>1451</th>\n",
       "      <td>1452</td>\n",
       "      <td>9262</td>\n",
       "      <td>Somerst</td>\n",
       "      <td>5</td>\n",
       "      <td>2008</td>\n",
       "      <td>287090</td>\n",
       "    </tr>\n",
       "    <tr>\n",
       "      <th>1452</th>\n",
       "      <td>1453</td>\n",
       "      <td>3675</td>\n",
       "      <td>Edwards</td>\n",
       "      <td>5</td>\n",
       "      <td>2005</td>\n",
       "      <td>145000</td>\n",
       "    </tr>\n",
       "    <tr>\n",
       "      <th>1453</th>\n",
       "      <td>1454</td>\n",
       "      <td>17217</td>\n",
       "      <td>Mitchel</td>\n",
       "      <td>5</td>\n",
       "      <td>2006</td>\n",
       "      <td>84500</td>\n",
       "    </tr>\n",
       "    <tr>\n",
       "      <th>1454</th>\n",
       "      <td>1455</td>\n",
       "      <td>7500</td>\n",
       "      <td>Somerst</td>\n",
       "      <td>5</td>\n",
       "      <td>2004</td>\n",
       "      <td>185000</td>\n",
       "    </tr>\n",
       "    <tr>\n",
       "      <th>1455</th>\n",
       "      <td>1456</td>\n",
       "      <td>7917</td>\n",
       "      <td>Gilbert</td>\n",
       "      <td>5</td>\n",
       "      <td>1999</td>\n",
       "      <td>175000</td>\n",
       "    </tr>\n",
       "    <tr>\n",
       "      <th>1456</th>\n",
       "      <td>1457</td>\n",
       "      <td>13175</td>\n",
       "      <td>NWAmes</td>\n",
       "      <td>6</td>\n",
       "      <td>1978</td>\n",
       "      <td>210000</td>\n",
       "    </tr>\n",
       "    <tr>\n",
       "      <th>1457</th>\n",
       "      <td>1458</td>\n",
       "      <td>9042</td>\n",
       "      <td>Crawfor</td>\n",
       "      <td>9</td>\n",
       "      <td>1941</td>\n",
       "      <td>266500</td>\n",
       "    </tr>\n",
       "    <tr>\n",
       "      <th>1458</th>\n",
       "      <td>1459</td>\n",
       "      <td>9717</td>\n",
       "      <td>NAmes</td>\n",
       "      <td>6</td>\n",
       "      <td>1950</td>\n",
       "      <td>142125</td>\n",
       "    </tr>\n",
       "    <tr>\n",
       "      <th>1459</th>\n",
       "      <td>1460</td>\n",
       "      <td>9937</td>\n",
       "      <td>Edwards</td>\n",
       "      <td>6</td>\n",
       "      <td>1965</td>\n",
       "      <td>147500</td>\n",
       "    </tr>\n",
       "  </tbody>\n",
       "</table>\n",
       "<p>1460 rows × 6 columns</p>\n",
       "</div>"
      ],
      "text/plain": [
       "        Id  LotArea Neighborhood  OverallCond  YearBuilt  SalePrice\n",
       "0        1     8450      CollgCr            5       2003     208500\n",
       "1        2     9600      Veenker            8       1976     181500\n",
       "2        3    11250      CollgCr            5       2001     223500\n",
       "3        4     9550      Crawfor            5       1915     140000\n",
       "4        5    14260      NoRidge            5       2000     250000\n",
       "5        6    14115      Mitchel            5       1993     143000\n",
       "6        7    10084      Somerst            5       2004     307000\n",
       "7        8    10382       NWAmes            6       1973     200000\n",
       "8        9     6120      OldTown            5       1931     129900\n",
       "9       10     7420      BrkSide            6       1939     118000\n",
       "10      11    11200       Sawyer            5       1965     129500\n",
       "11      12    11924      NridgHt            5       2005     345000\n",
       "12      13    12968       Sawyer            6       1962     144000\n",
       "13      14    10652      CollgCr            5       2006     279500\n",
       "14      15    10920        NAmes            5       1960     157000\n",
       "15      16     6120      BrkSide            8       1929     132000\n",
       "16      17    11241        NAmes            7       1970     149000\n",
       "17      18    10791       Sawyer            5       1967      90000\n",
       "18      19    13695      SawyerW            5       2004     159000\n",
       "19      20     7560        NAmes            6       1958     139000\n",
       "20      21    14215      NridgHt            5       2005     325300\n",
       "21      22     7449       IDOTRR            7       1930     139400\n",
       "22      23     9742      CollgCr            5       2002     230000\n",
       "23      24     4224      MeadowV            7       1976     129900\n",
       "24      25     8246       Sawyer            8       1968     154000\n",
       "25      26    14230      NridgHt            5       2007     256300\n",
       "26      27     7200        NAmes            7       1951     134800\n",
       "27      28    11478      NridgHt            5       2007     306000\n",
       "28      29    16321        NAmes            6       1957     207500\n",
       "29      30     6324      BrkSide            6       1927      68500\n",
       "...    ...      ...          ...          ...        ...        ...\n",
       "1430  1431    21930      Gilbert            5       2005     192140\n",
       "1431  1432     4928      NPkVill            6       1976     143750\n",
       "1432  1433    10800      OldTown            6       1927      64500\n",
       "1433  1434    10261      Gilbert            5       2000     186500\n",
       "1434  1435    17400      Mitchel            5       1977     160000\n",
       "1435  1436     8400        NAmes            9       1962     174000\n",
       "1436  1437     9000        NAmes            6       1971     120500\n",
       "1437  1438    12444      NridgHt            5       2008     394617\n",
       "1438  1439     7407      OldTown            7       1957     149700\n",
       "1439  1440    11584       NWAmes            6       1979     197000\n",
       "1440  1441    11526      Crawfor            7       1922     191000\n",
       "1441  1442     4426      CollgCr            5       2004     149300\n",
       "1442  1443    11003      Somerst            5       2008     310000\n",
       "1443  1444     8854      BrkSide            6       1916     121000\n",
       "1444  1445     8500      CollgCr            5       2004     179600\n",
       "1445  1446     8400       Sawyer            5       1966     129000\n",
       "1446  1447    26142      Mitchel            7       1962     157900\n",
       "1447  1448    10000      CollgCr            5       1995     240000\n",
       "1448  1449    11767      Edwards            7       1910     112000\n",
       "1449  1450     1533      MeadowV            7       1970      92000\n",
       "1450  1451     9000        NAmes            5       1974     136000\n",
       "1451  1452     9262      Somerst            5       2008     287090\n",
       "1452  1453     3675      Edwards            5       2005     145000\n",
       "1453  1454    17217      Mitchel            5       2006      84500\n",
       "1454  1455     7500      Somerst            5       2004     185000\n",
       "1455  1456     7917      Gilbert            5       1999     175000\n",
       "1456  1457    13175       NWAmes            6       1978     210000\n",
       "1457  1458     9042      Crawfor            9       1941     266500\n",
       "1458  1459     9717        NAmes            6       1950     142125\n",
       "1459  1460     9937      Edwards            6       1965     147500\n",
       "\n",
       "[1460 rows x 6 columns]"
      ]
     },
     "execution_count": 23,
     "metadata": {},
     "output_type": "execute_result"
    }
   ],
   "source": [
    "df"
   ]
  },
  {
   "cell_type": "code",
   "execution_count": 24,
   "metadata": {},
   "outputs": [
    {
     "data": {
      "text/plain": [
       "pandas.core.frame.DataFrame"
      ]
     },
     "execution_count": 24,
     "metadata": {},
     "output_type": "execute_result"
    }
   ],
   "source": [
    "type(df)"
   ]
  },
  {
   "cell_type": "markdown",
   "metadata": {},
   "source": [
    "Some important commands to explore your data"
   ]
  },
  {
   "cell_type": "markdown",
   "metadata": {},
   "source": [
    "1. head and tail"
   ]
  },
  {
   "cell_type": "code",
   "execution_count": null,
   "metadata": {},
   "outputs": [],
   "source": [
    "df.head()"
   ]
  },
  {
   "cell_type": "code",
   "execution_count": null,
   "metadata": {},
   "outputs": [],
   "source": [
    "df.head(10)"
   ]
  },
  {
   "cell_type": "code",
   "execution_count": null,
   "metadata": {},
   "outputs": [],
   "source": [
    "df.tail()"
   ]
  },
  {
   "cell_type": "markdown",
   "metadata": {},
   "source": [
    "2. shape"
   ]
  },
  {
   "cell_type": "markdown",
   "metadata": {},
   "source": [
    "Doesnt require () at the end because its like a class attribute"
   ]
  },
  {
   "cell_type": "code",
   "execution_count": null,
   "metadata": {},
   "outputs": [],
   "source": [
    "df.shape"
   ]
  },
  {
   "cell_type": "markdown",
   "metadata": {},
   "source": [
    "_**DO: Print out the number of columns only. Then print out the number of rows only using shape**_"
   ]
  },
  {
   "cell_type": "markdown",
   "metadata": {},
   "source": [
    "3. info"
   ]
  },
  {
   "cell_type": "code",
   "execution_count": null,
   "metadata": {},
   "outputs": [],
   "source": [
    "df.info()"
   ]
  },
  {
   "cell_type": "markdown",
   "metadata": {},
   "source": [
    "4. describe"
   ]
  },
  {
   "cell_type": "code",
   "execution_count": null,
   "metadata": {},
   "outputs": [],
   "source": [
    "df.describe()"
   ]
  },
  {
   "cell_type": "markdown",
   "metadata": {},
   "source": [
    "_**DO: Use df.describe include and exclude arguments to select only object columns.**_"
   ]
  },
  {
   "cell_type": "markdown",
   "metadata": {},
   "source": [
    "5. loc and iloc"
   ]
  },
  {
   "cell_type": "markdown",
   "metadata": {},
   "source": [
    "_Explain on blackboard and do some exaples there first_"
   ]
  },
  {
   "cell_type": "code",
   "execution_count": null,
   "metadata": {},
   "outputs": [],
   "source": [
    "df.head()"
   ]
  },
  {
   "cell_type": "markdown",
   "metadata": {},
   "source": [
    "_**DO: let a be some list. See what happens when we use a[:]**_"
   ]
  },
  {
   "cell_type": "code",
   "execution_count": null,
   "metadata": {},
   "outputs": [],
   "source": [
    "df.loc[0,:]"
   ]
  },
  {
   "cell_type": "code",
   "execution_count": null,
   "metadata": {},
   "outputs": [],
   "source": [
    "df.loc[0,'LotArea']"
   ]
  },
  {
   "cell_type": "code",
   "execution_count": null,
   "metadata": {},
   "outputs": [],
   "source": [
    "df.loc[2:10, \"LotArea\":\"Neighborhood\"]"
   ]
  },
  {
   "cell_type": "markdown",
   "metadata": {},
   "source": [
    "Similarly"
   ]
  },
  {
   "cell_type": "code",
   "execution_count": null,
   "metadata": {},
   "outputs": [],
   "source": [
    "df.head()"
   ]
  },
  {
   "cell_type": "code",
   "execution_count": null,
   "metadata": {},
   "outputs": [],
   "source": [
    "df.iloc[0,:]"
   ]
  },
  {
   "cell_type": "code",
   "execution_count": null,
   "metadata": {},
   "outputs": [],
   "source": [
    "df.iloc[0,2]"
   ]
  },
  {
   "cell_type": "markdown",
   "metadata": {},
   "source": [
    "_**DO: What is the sales price of the house with 100 index?**_"
   ]
  },
  {
   "cell_type": "markdown",
   "metadata": {},
   "source": [
    "_**DO: Extract the OverallCond and YearBuilt columns for first 20 rows**_"
   ]
  },
  {
   "cell_type": "markdown",
   "metadata": {},
   "source": [
    "_**DO: Find Neighbourhood of houses 50 to 65**_"
   ]
  },
  {
   "cell_type": "markdown",
   "metadata": {},
   "source": [
    "_**DO: What command/code will give same output as df.head(100) ?**_"
   ]
  },
  {
   "cell_type": "markdown",
   "metadata": {},
   "source": [
    "_**DO: What is the total price of the houses from index 10 to 20. Hint: There's a method \"sum\" that can be used on dataframes.**_"
   ]
  },
  {
   "cell_type": "markdown",
   "metadata": {},
   "source": [
    "_**DO: Use describe and then loc to find overall mean SalePrice for all houses**_"
   ]
  }
 ],
 "metadata": {
  "kernelspec": {
   "display_name": "Python 3",
   "language": "python",
   "name": "python3"
  },
  "language_info": {
   "codemirror_mode": {
    "name": "ipython",
    "version": 3
   },
   "file_extension": ".py",
   "mimetype": "text/x-python",
   "name": "python",
   "nbconvert_exporter": "python",
   "pygments_lexer": "ipython3",
   "version": "3.7.3"
  }
 },
 "nbformat": 4,
 "nbformat_minor": 2
}
